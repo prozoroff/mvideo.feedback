{
 "cells": [
  {
   "cell_type": "markdown",
   "metadata": {},
   "source": [
    "## Loading data\n",
    "\n",
    "import dependencies"
   ]
  },
  {
   "cell_type": "code",
   "execution_count": 1,
   "metadata": {
    "collapsed": true
   },
   "outputs": [],
   "source": [
    "import pandas as pd\n",
    "import matplotlib.pyplot as plt\n",
    "import collections\n",
    "import numpy as np\n",
    "import operator\n",
    "\n",
    "from sklearn.feature_extraction.text import CountVectorizer\n",
    "from sklearn import metrics\n",
    "from sklearn.model_selection import cross_val_score\n",
    "from sklearn.model_selection import StratifiedKFold\n",
    "from sklearn.ensemble import RandomForestClassifier\n",
    "from sklearn.feature_selection import RFECV\n",
    "\n",
    "from sklearn.decomposition import TruncatedSVD\n",
    "from sklearn.feature_extraction import DictVectorizer\n",
    "from sklearn.feature_extraction.text import TfidfVectorizer\n",
    "from sklearn.metrics import classification_report\n",
    "from sklearn.pipeline import FeatureUnion\n",
    "from sklearn.pipeline import Pipeline\n",
    "from sklearn.svm import SVC\n",
    "from sklearn.base import BaseEstimator, TransformerMixin\n",
    "from sklearn.metrics import classification_report\n",
    "from sklearn.model_selection import train_test_split\n",
    "\n",
    "import pymorphy2\n",
    "import re\n",
    "from stop_words import get_stop_words\n",
    "import pickle"
   ]
  },
  {
   "cell_type": "markdown",
   "metadata": {},
   "source": [
    "load csv file "
   ]
  },
  {
   "cell_type": "code",
   "execution_count": 2,
   "metadata": {},
   "outputs": [
    {
     "name": "stdout",
     "output_type": "stream",
     "text": [
      "Data frame size: (15587, 5)\n"
     ]
    }
   ],
   "source": [
    "fields = ['sku', 'comment', 'commentNegative', 'commentPositive', 'reting']\n",
    "raw_data = pd.read_csv('feedback.csv/X_train.csv', delimiter=',', usecols=fields)\n",
    "print('Data frame size:',raw_data.shape)"
   ]
  },
  {
   "cell_type": "markdown",
   "metadata": {},
   "source": [
    "## Preprocessing\n",
    "\n",
    "display the distribution of ratings"
   ]
  },
  {
   "cell_type": "code",
   "execution_count": 30,
   "metadata": {},
   "outputs": [
    {
     "name": "stdout",
     "output_type": "stream",
     "text": [
      "distribution by rating\n"
     ]
    },
    {
     "data": {
      "image/png": "[encoded data removed]",
      "text/plain": [
       "<matplotlib.figure.Figure at 0x1eb99f98358>"
      ]
     },
     "metadata": {},
     "output_type": "display_data"
    },
    {
     "name": "stdout",
     "output_type": "stream",
     "text": [
      "distribution by five / no five\n"
     ]
    },
    {
     "data": {
      "image/png": "[encoded data removed]",
      "text/plain": [
       "<matplotlib.figure.Figure at 0x1eb9a475208>"
      ]
     },
     "metadata": {},
     "output_type": "display_data"
    },
    {
     "name": "stdout",
     "output_type": "stream",
     "text": [
      "distribution by no five rating\n"
     ]
    },
    {
     "data": {
      "image/png": "[encoded data removed]",
      "text/plain": [
       "<matplotlib.figure.Figure at 0x1eb9a5000b8>"
      ]
     },
     "metadata": {},
     "output_type": "display_data"
    }
   ],
   "source": [
    "def arrangeBy(data, param):\n",
    "    r_data = {}\n",
    "    for row in data:\n",
    "        if param in row:\n",
    "            r = row[param]\n",
    "            if r in r_data:\n",
    "                r_data[r].append(row)\n",
    "            else:\n",
    "                r_data[r] = []\n",
    "    return collections.OrderedDict(sorted(r_data.items()))\n",
    "\n",
    "def plotDist(data):\n",
    "    ratings = list(data.keys())\n",
    "    numbers = list(map(lambda x: len(x), data.values()))\n",
    "\n",
    "    plt.bar(ratings,numbers)\n",
    "    plt.ylabel('number of feedbacks')\n",
    "    plt.show()\n",
    "\n",
    "rows_all = list(map(lambda x: x[1], raw_data.iterrows()))\n",
    "rows = []\n",
    "\n",
    "for row in rows_all:\n",
    "    isFive = -1\n",
    "    if not row['reting'].is_integer():\n",
    "        continue\n",
    "    if row['reting'] == 5:\n",
    "        isFive = 1\n",
    "    else:\n",
    "        row['noFiveRating'] = -1 + row['reting']\n",
    "    row['isFive'] = isFive\n",
    "    rows.append(row)\n",
    "\n",
    "print('distribution by rating')\n",
    "ratings_data_by_rating = arrangeBy(list(rows),'reting');\n",
    "plotDist(ratings_data_by_rating)\n",
    "\n",
    "print('distribution by five / no five')\n",
    "ratings_data_by_five = arrangeBy(list(rows),'isFive');\n",
    "plotDist(ratings_data_by_five)\n",
    "\n",
    "print('distribution by no five rating')\n",
    "ratings_data_by_no_five_rating = arrangeBy(list(rows),'noFiveRating');\n",
    "plotDist(ratings_data_by_no_five_rating)"
   ]
  },
  {
   "cell_type": "markdown",
   "metadata": {},
   "source": [
    "normalize five / no five data"
   ]
  },
  {
   "cell_type": "code",
   "execution_count": 31,
   "metadata": {},
   "outputs": [
    {
     "name": "stdout",
     "output_type": "stream",
     "text": [
      "five feedbacks number: 6175\n",
      "five / no five feedbacks number: 12350\n"
     ]
    }
   ],
   "source": [
    "rows = list(ratings_data_by_five.values())\n",
    "\n",
    "numbers = list(map(lambda x: len(x), rows))\n",
    "feedbacks_per_five = int(sum(numbers) - max(numbers))\n",
    "\n",
    "print('five feedbacks number:',feedbacks_per_five)\n",
    "\n",
    "normal_rows_five = []\n",
    "normal_rows_five = list(rows[0][:feedbacks_per_five])\n",
    "normal_rows_five.extend(list(rows[1][:feedbacks_per_five]))\n",
    "np.random.shuffle(normal_rows_five)\n",
    "    \n",
    "print('five / no five feedbacks number:',len(normal_rows_five))"
   ]
  },
  {
   "cell_type": "markdown",
   "metadata": {},
   "source": [
    "normalize no five data"
   ]
  },
  {
   "cell_type": "code",
   "execution_count": 32,
   "metadata": {},
   "outputs": [
    {
     "name": "stdout",
     "output_type": "stream",
     "text": [
      "no five feedbacks number: 853\n",
      "no five feedbacks number: 3412\n"
     ]
    }
   ],
   "source": [
    "rows = list(ratings_data_by_no_five_rating.values())\n",
    "\n",
    "numbers = list(map(lambda x: len(x), rows))\n",
    "feedbacks_per_no_five = min(numbers)\n",
    "\n",
    "print('no five feedbacks number:',feedbacks_per_no_five)\n",
    "\n",
    "normal_rows_no_five = []\n",
    "normal_rows_no_five = list(rows[0][:feedbacks_per_no_five])\n",
    "normal_rows_no_five.extend(list(rows[1][:feedbacks_per_no_five]))\n",
    "normal_rows_no_five.extend(list(rows[2][:feedbacks_per_no_five]))\n",
    "normal_rows_no_five.extend(list(rows[3][:feedbacks_per_no_five]))\n",
    "np.random.shuffle(normal_rows_no_five)\n",
    "    \n",
    "print('no five feedbacks number:',len(normal_rows_no_five))"
   ]
  },
  {
   "cell_type": "markdown",
   "metadata": {},
   "source": [
    "check the distribution of ratings"
   ]
  },
  {
   "cell_type": "code",
   "execution_count": 33,
   "metadata": {},
   "outputs": [
    {
     "name": "stdout",
     "output_type": "stream",
     "text": [
      "normalized distribution for five / no five fata\n"
     ]
    },
    {
     "data": {
      "image/png": "[encoded data removed]",
      "text/plain": [
       "<matplotlib.figure.Figure at 0x1ebf5567588>"
      ]
     },
     "metadata": {},
     "output_type": "display_data"
    },
    {
     "name": "stdout",
     "output_type": "stream",
     "text": [
      "normalized distribution for no five ratings\n"
     ]
    },
    {
     "data": {
      "image/png": "[encoded data removed]",
      "text/plain": [
       "<matplotlib.figure.Figure at 0x1ebf59e2978>"
      ]
     },
     "metadata": {},
     "output_type": "display_data"
    }
   ],
   "source": [
    "print('normalized distribution for five / no five fata')\n",
    "plotDist(arrangeBy(normal_rows_five, 'isFive'))\n",
    "\n",
    "print('normalized distribution for no five ratings')\n",
    "plotDist(arrangeBy(normal_rows_no_five, 'noFiveRating'))"
   ]
  },
  {
   "cell_type": "markdown",
   "metadata": {
    "collapsed": true
   },
   "source": [
    "## Simple model"
   ]
  },
  {
   "cell_type": "code",
   "execution_count": 34,
   "metadata": {
    "collapsed": true
   },
   "outputs": [],
   "source": [
    "def evaluate_cross_validation(clf, X, y, K):\n",
    "    cv = StratifiedKFold(K, shuffle=True, random_state=42)\n",
    "    scores = cross_val_score(clf, X, y, scoring='accuracy', cv=cv) \n",
    "    print(scores)\n",
    "    print(\"Mean score: {0:.3f} (+/-{1:.3f})\".format(scores.mean(), scores.std()))\n",
    "    \n",
    "class RandomForestClassifierWithCoef(RandomForestClassifier):\n",
    "    def fit(self, *args, **kwargs):\n",
    "        super(RandomForestClassifierWithCoef, self).fit(*args, **kwargs)\n",
    "        self.coef_ = self.feature_importances_\n",
    "\n",
    "stop_words = stop_words = get_stop_words('ru')"
   ]
  },
  {
   "cell_type": "markdown",
   "metadata": {},
   "source": [
    "five / no five model"
   ]
  },
  {
   "cell_type": "code",
   "execution_count": 35,
   "metadata": {},
   "outputs": [
    {
     "name": "stdout",
     "output_type": "stream",
     "text": [
      "the most frequent words [('доволен', 703), ('рекомендую', 710), ('деньги', 715), ('видео', 721), ('супер', 733), ('купили', 736), ('купила', 740), ('цена', 765), ('хороший', 833), ('отличный', 844), ('модель', 855), ('звук', 889), ('отлично', 895), ('вообще', 904), ('быстро', 908), ('советую', 1004), ('пользуюсь', 1023), ('качество', 1089), ('купил', 1412), ('работает', 1631)]\n",
      "[ 0.76019417  0.76044704  0.78279883  0.75510204  0.76190476  0.77599611]\n",
      "Mean score: 0.766 (+/-0.010)\n"
     ]
    }
   ],
   "source": [
    "count_vectorizer_five = CountVectorizer(min_df=0.0001, max_df=0.95, analyzer=\"word\", stop_words=stop_words)\n",
    "\n",
    "X = count_vectorizer_five.fit_transform((r['comment'] for r in normal_rows_five))\n",
    "y = list(r['isFive'] for r in normal_rows_five)\n",
    "\n",
    "frequent_words = dict(zip(count_vectorizer_five.get_feature_names(),np.asarray(X.sum(axis=0)).ravel()))\n",
    "sorted_frequent_words = sorted(frequent_words.items(), key=operator.itemgetter(1))\n",
    "print('the most frequent words', sorted_frequent_words[-20:])\n",
    "\n",
    "clf_five = RandomForestClassifierWithCoef(n_estimators=512, min_samples_leaf=10, n_jobs=-1)\n",
    "evaluate_cross_validation(clf_five, X, y, 6)"
   ]
  },
  {
   "cell_type": "markdown",
   "metadata": {},
   "source": [
    "no five ratings model"
   ]
  },
  {
   "cell_type": "code",
   "execution_count": 36,
   "metadata": {},
   "outputs": [
    {
     "name": "stdout",
     "output_type": "stream",
     "text": [
      "the most frequent words [('сдавать', 183), ('вскрытия', 186), ('попроще', 192), ('функцию', 193), ('внешним', 196), ('тошибы', 196), ('урожая', 201), ('меломана', 202), ('меломану', 209), ('вертикальную', 210), ('судил', 214), ('ударе', 221), ('например', 226), ('дорого', 241), ('надёжен', 242), ('италия', 252), ('корпусов', 270), ('выбираем', 317), ('меломан', 368), ('семерку', 393)]\n",
      "[ 0.43881119  0.41725352  0.42605634  0.39788732  0.40669014  0.44014085]\n",
      "Mean score: 0.421 (+/-0.016)\n"
     ]
    }
   ],
   "source": [
    "count_vectorizer_no_five = CountVectorizer(min_df=0.0001, max_df=0.95, analyzer=\"word\", stop_words=stop_words)\n",
    "\n",
    "X = count_vectorizer_no_five.fit_transform((r['comment'] for r in normal_rows_no_five))\n",
    "y = list(r['noFiveRating'] for r in normal_rows_no_five)\n",
    "\n",
    "frequent_words = dict(zip(count_vectorizer_five.get_feature_names(),np.asarray(X.sum(axis=0)).ravel()))\n",
    "sorted_frequent_words = sorted(frequent_words.items(), key=operator.itemgetter(1))\n",
    "print('the most frequent words', sorted_frequent_words[-20:])\n",
    "\n",
    "clf_no_five = RandomForestClassifierWithCoef(n_estimators=512, min_samples_leaf=10, n_jobs=-1)\n",
    "evaluate_cross_validation(clf_no_five, X, y, 6)"
   ]
  },
  {
   "cell_type": "markdown",
   "metadata": {},
   "source": [
    "## Smarter model\n",
    "\n",
    "morphological normalization, etc."
   ]
  },
  {
   "cell_type": "code",
   "execution_count": 37,
   "metadata": {
    "collapsed": true
   },
   "outputs": [],
   "source": [
    "morph = pymorphy2.MorphAnalyzer()\n",
    "\n",
    "regex_clear = re.compile('[^а-яё]',re.DOTALL)\n",
    "regex_space = re.compile('\\s{1,}',re.DOTALL)\n",
    "\n",
    "def clear(text):\n",
    "    tmp = re.sub(regex_clear, ' ', text.lower().replace('ё', 'е'))\n",
    "    return re.sub(regex_space, ' ', tmp)\n",
    "\n",
    "def prepare(text):\n",
    "    return text.lower()\n",
    "\n",
    "def to_normal(word):\n",
    "    return morph.parse(word)[0].normal_form\n",
    "    \n",
    "def normalize(text):\n",
    "    words = []\n",
    "    for word in text.split(' '):\n",
    "        words.append(to_normal(word))\n",
    "    norm=' '.join(words)  \n",
    "    return norm.replace('ё', 'е')\n",
    "\n",
    "class TextNormalizer(BaseEstimator, TransformerMixin):\n",
    "    def fit(self, x, y=None):\n",
    "        return self\n",
    "    def transform(self, texts):\n",
    "        cleared = [clear(text) for text in texts]\n",
    "        return [normalize(text) for text in texts]\n",
    "    \n",
    "class TextCleaner(BaseEstimator, TransformerMixin):\n",
    "    def fit(self, x, y=None):\n",
    "        return self\n",
    "    def transform(self, texts):\n",
    "        return [prepare(text) for text in texts]"
   ]
  },
  {
   "cell_type": "code",
   "execution_count": 38,
   "metadata": {
    "collapsed": true
   },
   "outputs": [],
   "source": [
    "pipeline = Pipeline([\n",
    "    ('union', FeatureUnion(\n",
    "        transformer_list=[\n",
    "            ('count_vectorizer', Pipeline([\n",
    "                ('selector', TextCleaner()),\n",
    "                ('cv', CountVectorizer(min_df=0.0001, max_df=0.95, ngram_range=(4,4), analyzer=\"char_wb\")),\n",
    "                #('best', TruncatedSVD(n_components=100)),\n",
    "            ])),\n",
    "            ('tfidf', Pipeline([\n",
    "                 ('selector', TextCleaner()),\n",
    "                 ('tfidf', TfidfVectorizer(analyzer=\"word\", stop_words=stop_words)),\n",
    "                 #('best', TruncatedSVD(n_components=10)), \n",
    "             ])),\n",
    "            ('count_vectorizer_default', Pipeline([\n",
    "                ('selector', TextNormalizer()),\n",
    "                ('cv', CountVectorizer(min_df=0.0001, max_df=0.95, stop_words=stop_words, analyzer='word')),                                \n",
    "            ])),\n",
    "\n",
    "        ],\n",
    "        transformer_weights={ \n",
    "            'count_vectorizer': 1,\n",
    "            'tfidf': 1,\n",
    "            'count_vectorizer_default': 1\n",
    "       },\n",
    "    )),\n",
    "\n",
    "    #('model', SVC(kernel='linear')) #rbf, sigmoid, polynomial\n",
    "    ('model', RandomForestClassifierWithCoef(n_estimators=512, min_samples_leaf=5, n_jobs=-1))\n",
    "    \n",
    "])"
   ]
  },
  {
   "cell_type": "markdown",
   "metadata": {},
   "source": [
    "five / no five model"
   ]
  },
  {
   "cell_type": "code",
   "execution_count": 39,
   "metadata": {},
   "outputs": [
    {
     "name": "stdout",
     "output_type": "stream",
     "text": [
      "[ 0.76930549  0.77186589  0.77380952]\n",
      "Mean score: 0.772 (+/-0.002)\n"
     ]
    }
   ],
   "source": [
    "comments_x = list(r['comment'] for r in normal_rows_five)\n",
    "ratings_y = list(r['isFive'] for r in normal_rows_five)\n",
    "\n",
    "evaluate_cross_validation(pipeline, comments_x, ratings_y, 3)"
   ]
  },
  {
   "cell_type": "markdown",
   "metadata": {},
   "source": [
    "no five ratings model"
   ]
  },
  {
   "cell_type": "code",
   "execution_count": 109,
   "metadata": {},
   "outputs": [
    {
     "name": "stdout",
     "output_type": "stream",
     "text": [
      "[ 0.41754386  0.41549296  0.44542254]\n",
      "Mean score: 0.426 (+/-0.014)\n"
     ]
    }
   ],
   "source": [
    "comments_x = list(r['comment'] for r in normal_rows_no_five)\n",
    "ratings_y = list(r['noFiveRating'] for r in normal_rows_no_five)\n",
    "\n",
    "evaluate_cross_validation(pipeline, comments_x, ratings_y, 3)"
   ]
  },
  {
   "cell_type": "code",
   "execution_count": 111,
   "metadata": {},
   "outputs": [
    {
     "name": "stdout",
     "output_type": "stream",
     "text": [
      "five / no five report:\n",
      "             precision    recall  f1-score   support\n",
      "\n",
      "         -1       0.78      0.76      0.77       330\n",
      "          1       0.73      0.76      0.74       288\n",
      "\n",
      "avg / total       0.76      0.76      0.76       618\n",
      "\n",
      "no five ratings report:\n",
      "             precision    recall  f1-score   support\n",
      "\n",
      "        0.0       0.68      0.43      0.53        69\n",
      "        1.0       0.18      0.38      0.24        24\n",
      "        2.0       0.19      0.47      0.27        17\n",
      "        3.0       0.73      0.39      0.51        61\n",
      "\n",
      "avg / total       0.58      0.42      0.46       171\n",
      "\n"
     ]
    }
   ],
   "source": [
    "def to_dataframe_five(normal_rows):\n",
    "    tmp_df = pd.DataFrame()\n",
    "    tmp_df['comment'] = list(r['comment'] for r in normal_rows)\n",
    "    tmp_df['isFive'] = list(r['isFive'] for r in normal_rows)\n",
    "    return tmp_df\n",
    "\n",
    "def to_dataframe_no_five(normal_rows):\n",
    "    tmp_df = pd.DataFrame()\n",
    "    tmp_df['comment'] = list(r['comment'] for r in normal_rows)\n",
    "    tmp_df['noFiveRating'] = list(r['noFiveRating'] for r in normal_rows)\n",
    "    return tmp_df\n",
    "\n",
    "feedback_five_df = to_dataframe_five(normal_rows_five)\n",
    "X_train, X_test, y_train, y_test = train_test_split(feedback_five_df['comment'], feedback_five_df['isFive'], test_size = 0.05)\n",
    "pipeline.fit(X_train, y_train)\n",
    "print('five / no five report:')\n",
    "print(classification_report(pipeline.predict(X_test), y_test))\n",
    "pickle.dump(pipeline, open('mvideo.feedback.pickle.five', 'wb'))\n",
    "\n",
    "feedback_no_five_df = to_dataframe_no_five(normal_rows_no_five)\n",
    "X_train, X_test, y_train, y_test = train_test_split(feedback_no_five_df['comment'], feedback_no_five_df['noFiveRating'], test_size = 0.05)\n",
    "pipeline.fit(X_train, y_train)\n",
    "print('no five ratings report:')\n",
    "print(classification_report(pipeline.predict(X_test), y_test))\n",
    "pickle.dump(pipeline, open('mvideo.feedback.pickle.nofive', 'wb'))"
   ]
  },
  {
   "cell_type": "code",
   "execution_count": 115,
   "metadata": {
    "collapsed": true
   },
   "outputs": [],
   "source": [
    "pipeline_five = pickle.load(open('mvideo.feedback.pickle.five', 'rb'))\n",
    "pipeline_no_five = pickle.load(open('mvideo.feedback.pickle.nofive', 'rb'))\n",
    "\n",
    "def predict_rating(text):\n",
    "    isFive = pipeline_five.predict([text])[0]\n",
    "    if isFive == 1:\n",
    "        return 5\n",
    "    else:\n",
    "        return int(pipeline_no_five.predict([text])[0] + 1)"
   ]
  },
  {
   "cell_type": "code",
   "execution_count": 116,
   "metadata": {},
   "outputs": [
    {
     "name": "stdout",
     "output_type": "stream",
     "text": [
      "2,5 года работала и все...устала! Лампочка горит и ... actual: 2.0 predicted: 1\n",
      "Через 2 месяца после истечении гарантийного срока  ... actual: 2.0 predicted: 2\n",
      "пользуюсь уже три недели. нареканий ни каких не бы ... actual: 4.0 predicted: 4\n",
      "Ребят этот системный блок подойдёт для игры кс го  ... actual: 5.0 predicted: 5\n",
      "я считаю, что яри замечательный телефон! Приятно д ... actual: 5.0 predicted: 5\n",
      "Сегодня купила 2 таких вентилятора! Ужасный. Скоро ... actual: 1.0 predicted: 1\n",
      "привезли ноут, по качеству корпуса и дизайну 5+. О ... actual: 5.0 predicted: 5\n",
      "Купила этот увлажнитель, шумный, подсветка мешает  ... actual: 2.0 predicted: 2\n",
      "Комбайн отличный. Пользуюсь 2 года. Пользуюсь в ос ... actual: 5.0 predicted: 5\n",
      "Отличный аппарат. авто выключение вообще прелесть. ... actual: 5.0 predicted: 5\n",
      "Смотрели сегодня эту модель в магазине, сначала со ... actual: 1.0 predicted: 1\n",
      "Пользуюсь больше года, печь с самого начала плохо  ... actual: 2.0 predicted: 2\n",
      "Пользуемся с женой вот уже несколько месяцев и оче ... actual: 5.0 predicted: 5\n",
      "высокая скорость, мало шума, приемлемая цена, высо ... actual: 4.7 predicted: 5\n",
      "Мне купили ПСП на день рождения,когда мне исполнял ... actual: 5.0 predicted: 3\n",
      "Пользуюсь неделю, нареканий ни каких нет. Собрал б ... actual: 5.0 predicted: 5\n",
      "если те впарили шляпу то не надо наговаривать!!!оф ... actual: 5.0 predicted: 5\n",
      "Ужасная некачественная сборка, мне попался с не пр ... actual: 1.0 predicted: 1\n",
      "Использую уже 2 года.  В принципе доволен. Охладит ... actual: 3.0 predicted: 4\n",
      "Огромный минус - отсутствие радио. А так был бы за ... actual: 4.0 predicted: 4\n"
     ]
    }
   ],
   "source": [
    "for row in rows_all[:20]:\n",
    "    print(row['comment'][:50],'... actual:',row['reting'],'predicted:',predict_rating(row['comment']))"
   ]
  },
  {
   "cell_type": "code",
   "execution_count": null,
   "metadata": {
    "collapsed": true
   },
   "outputs": [],
   "source": []
  }
 ],
 "metadata": {
  "kernelspec": {
   "display_name": "Python 3",
   "language": "python",
   "name": "python3"
  },
  "language_info": {
   "codemirror_mode": {
    "name": "ipython",
    "version": 3
   },
   "file_extension": ".py",
   "mimetype": "text/x-python",
   "name": "python",
   "nbconvert_exporter": "python",
   "pygments_lexer": "ipython3",
   "version": "3.6.1"
  }
 },
 "nbformat": 4,
 "nbformat_minor": 2
}
