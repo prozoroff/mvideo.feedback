{
 "cells": [
  {
   "cell_type": "markdown",
   "metadata": {},
   "source": [
    "## Loading data\n",
    "\n",
    "import dependencies"
   ]
  },
  {
   "cell_type": "code",
   "execution_count": 31,
   "metadata": {},
   "outputs": [],
   "source": [
    "import pandas as pd\n",
    "import matplotlib.pyplot as plt\n",
    "import collections\n",
    "import numpy as np\n",
    "import operator\n",
    "\n",
    "from sklearn.feature_extraction.text import CountVectorizer\n",
    "from sklearn import metrics\n",
    "from sklearn.model_selection import cross_val_score\n",
    "from sklearn.model_selection import StratifiedKFold\n",
    "from sklearn.ensemble import RandomForestClassifier\n",
    "from sklearn.feature_selection import RFECV\n",
    "\n",
    "from sklearn.decomposition import TruncatedSVD\n",
    "from sklearn.feature_extraction import DictVectorizer\n",
    "from sklearn.feature_extraction.text import TfidfVectorizer\n",
    "from sklearn.metrics import classification_report\n",
    "from sklearn.pipeline import FeatureUnion\n",
    "from sklearn.pipeline import Pipeline\n",
    "from sklearn.svm import SVC\n",
    "from sklearn.base import BaseEstimator, TransformerMixin\n",
    "from sklearn.metrics import classification_report\n",
    "from sklearn.model_selection import train_test_split\n",
    "\n",
    "import pymorphy2\n",
    "import re\n",
    "from stop_words import get_stop_words\n",
    "import pickle"
   ]
  },
  {
   "cell_type": "markdown",
   "metadata": {},
   "source": [
    "load csv file "
   ]
  },
  {
   "cell_type": "code",
   "execution_count": 2,
   "metadata": {},
   "outputs": [
    {
     "name": "stdout",
     "output_type": "stream",
     "text": [
      "Data frame size: (15587, 5)\n"
     ]
    }
   ],
   "source": [
    "fields = ['sku', 'comment', 'commentNegative', 'commentPositive', 'reting']\n",
    "raw_data = pd.read_csv('feedback.csv/X_train.csv', delimiter=',', usecols=fields)\n",
    "print('Data frame size:',raw_data.shape)"
   ]
  },
  {
   "cell_type": "markdown",
   "metadata": {},
   "source": [
    "## Preprocessing\n",
    "\n",
    "display the distribution of ratings"
   ]
  },
  {
   "cell_type": "code",
   "execution_count": 3,
   "metadata": {},
   "outputs": [
    {
     "data": {
      "image/png": "[encoded data removed]",
      "text/plain": [
       "<matplotlib.figure.Figure at 0x193949e7dd8>"
      ]
     },
     "metadata": {},
     "output_type": "display_data"
    },
    {
     "data": {
      "image/png": "[encoded data removed]",
      "text/plain": [
       "<matplotlib.figure.Figure at 0x1939cbd2f28>"
      ]
     },
     "metadata": {},
     "output_type": "display_data"
    }
   ],
   "source": [
    "def arrangeBy(data, param):\n",
    "    r_data = {}\n",
    "    for row in data:\n",
    "        r = row[param]\n",
    "        if r in r_data:\n",
    "            r_data[r].append(row)\n",
    "        else:\n",
    "            r_data[r] = []\n",
    "    return collections.OrderedDict(sorted(r_data.items()))\n",
    "\n",
    "def plotDist(data):\n",
    "    ratings = list(data.keys())\n",
    "    numbers = list(map(lambda x: len(x), data.values()))\n",
    "\n",
    "    plt.bar(ratings,numbers)\n",
    "    plt.ylabel('number of feedbacks')\n",
    "    plt.show()\n",
    "\n",
    "rows_all = list(map(lambda x: x[1], raw_data.iterrows()))\n",
    "rows = []\n",
    "\n",
    "for row in rows_all:\n",
    "    isFive = -1\n",
    "    if not row['reting'].is_integer():\n",
    "        continue\n",
    "    if row['reting'] == 5:\n",
    "        isFive = 1\n",
    "    row['isFive'] = isFive\n",
    "    rows.append(row)\n",
    "    \n",
    "ratings_data_by_rating = arrangeBy(rows,'reting');\n",
    "plotDist(ratings_data_by_rating)\n",
    "\n",
    "ratings_data = arrangeBy(rows,'isFive');\n",
    "plotDist(ratings_data)"
   ]
  },
  {
   "cell_type": "markdown",
   "metadata": {},
   "source": [
    "normalize data"
   ]
  },
  {
   "cell_type": "code",
   "execution_count": 4,
   "metadata": {},
   "outputs": [
    {
     "name": "stdout",
     "output_type": "stream",
     "text": [
      "five rates number: 9210\n",
      "other rates number: 6175\n",
      "feedbacks number: 15385\n"
     ]
    }
   ],
   "source": [
    "rows = list(ratings_data.values())\n",
    "\n",
    "numbers = list(map(lambda x: len(x), rows))\n",
    "feedbacks_per_rating = int(sum(numbers) - max(numbers))\n",
    "\n",
    "print('five rates number:',max(numbers))\n",
    "print('other rates number:',feedbacks_per_rating)\n",
    "\n",
    "normal_rows = []\n",
    "\n",
    "normal_rows = list(rows[0])\n",
    "normal_rows.extend(list(rows[1]))\n",
    "    \n",
    "np.random.shuffle(normal_rows)\n",
    "    \n",
    "print('feedbacks number:',len(normal_rows))"
   ]
  },
  {
   "cell_type": "markdown",
   "metadata": {},
   "source": [
    "check the distribution of ratings"
   ]
  },
  {
   "cell_type": "code",
   "execution_count": 5,
   "metadata": {},
   "outputs": [
    {
     "data": {
      "image/png": "[encoded data removed]",
      "text/plain": [
       "<matplotlib.figure.Figure at 0x193949e7898>"
      ]
     },
     "metadata": {},
     "output_type": "display_data"
    }
   ],
   "source": [
    "ratings_data = arrangeBy(normal_rows, 'isFive')\n",
    "plotDist(ratings_data)"
   ]
  },
  {
   "cell_type": "markdown",
   "metadata": {
    "collapsed": true
   },
   "source": [
    "## Simple model"
   ]
  },
  {
   "cell_type": "code",
   "execution_count": 6,
   "metadata": {},
   "outputs": [
    {
     "name": "stdout",
     "output_type": "stream",
     "text": [
      "the most frequent words [('видео', 893), ('доволен', 914), ('купили', 921), ('купила', 945), ('цена', 954), ('довольна', 959), ('рекомендую', 999), ('модель', 1039), ('супер', 1045), ('хороший', 1053), ('звук', 1079), ('вообще', 1088), ('быстро', 1140), ('отличный', 1186), ('отлично', 1212), ('советую', 1312), ('пользуюсь', 1333), ('качество', 1358), ('купил', 1751), ('работает', 2097)]\n",
      "[ 0.75633528  0.73400936  0.74921997  0.7425897   0.75156006  0.75312012]\n",
      "Mean score: 0.748 (+/-0.007)\n"
     ]
    }
   ],
   "source": [
    "stop_words = stop_words = get_stop_words('ru')\n",
    "count_vectorizer = CountVectorizer(min_df=0.0001, max_df=0.95, analyzer=\"word\", stop_words=stop_words)\n",
    "\n",
    "def evaluate_cross_validation(clf, X, y, K):\n",
    "    cv = StratifiedKFold(K, shuffle=True, random_state=42)\n",
    "    scores = cross_val_score(clf, X, y, scoring='accuracy', cv=cv) \n",
    "    print(scores)\n",
    "    print(\"Mean score: {0:.3f} (+/-{1:.3f})\".format(scores.mean(), scores.std()))\n",
    "    \n",
    "class RandomForestClassifierWithCoef(RandomForestClassifier):\n",
    "    def fit(self, *args, **kwargs):\n",
    "        super(RandomForestClassifierWithCoef, self).fit(*args, **kwargs)\n",
    "        self.coef_ = self.feature_importances_\n",
    "        \n",
    "X = count_vectorizer.fit_transform((r['comment'] for r in normal_rows))\n",
    "y = list(r['isFive'] for r in normal_rows)\n",
    "\n",
    "frequent_words = dict(zip(count_vectorizer.get_feature_names(),np.asarray(X.sum(axis=0)).ravel()))\n",
    "sorted_frequent_words = sorted(frequent_words.items(), key=operator.itemgetter(1))\n",
    "\n",
    "print('the most frequent words', sorted_frequent_words[-20:])\n",
    "\n",
    "clf = RandomForestClassifierWithCoef(n_estimators=512, min_samples_leaf=10, n_jobs=-1)\n",
    "evaluate_cross_validation(clf, X, y, 6)"
   ]
  },
  {
   "cell_type": "markdown",
   "metadata": {},
   "source": [
    "## Smarter model\n",
    "\n",
    "morphological normalization, etc."
   ]
  },
  {
   "cell_type": "code",
   "execution_count": 7,
   "metadata": {
    "collapsed": true
   },
   "outputs": [],
   "source": [
    "morph = pymorphy2.MorphAnalyzer()\n",
    "\n",
    "regex_clear = re.compile('[^а-яё]',re.DOTALL)\n",
    "regex_space = re.compile('\\s{1,}',re.DOTALL)\n",
    "\n",
    "def clear(text):\n",
    "    tmp = re.sub(regex_clear, ' ', text.lower().replace('ё', 'е'))\n",
    "    return re.sub(regex_space, ' ', tmp)\n",
    "\n",
    "def prepare(text):\n",
    "    return text.lower()\n",
    "\n",
    "def to_normal(word):\n",
    "    return morph.parse(word)[0].normal_form\n",
    "    \n",
    "def normalize(text):\n",
    "    words = []\n",
    "    for word in text.split(' '):\n",
    "        words.append(to_normal(word))\n",
    "    norm=' '.join(words)  \n",
    "    return norm.replace('ё', 'е')\n",
    "\n",
    "class TextNormalizer(BaseEstimator, TransformerMixin):\n",
    "    def fit(self, x, y=None):\n",
    "        return self\n",
    "    def transform(self, texts):\n",
    "        cleared = [clear(text) for text in texts]\n",
    "        return [normalize(text) for text in texts]\n",
    "    \n",
    "class TextCleaner(BaseEstimator, TransformerMixin):\n",
    "    def fit(self, x, y=None):\n",
    "        return self\n",
    "    def transform(self, texts):\n",
    "        return [prepare(text) for text in texts]"
   ]
  },
  {
   "cell_type": "code",
   "execution_count": 14,
   "metadata": {},
   "outputs": [
    {
     "name": "stdout",
     "output_type": "stream",
     "text": [
      "[ 0.7785575   0.76365055  0.78081123  0.7800312   0.77418097  0.77574103]\n",
      "Mean score: 0.775 (+/-0.006)\n"
     ]
    }
   ],
   "source": [
    "pipeline = Pipeline([\n",
    "    ('union', FeatureUnion(\n",
    "        transformer_list=[\n",
    "            ('count_vectorizer', Pipeline([\n",
    "                ('selector', TextCleaner()),\n",
    "                ('cv', CountVectorizer(min_df=0.0001, max_df=0.95, ngram_range=(4,4), analyzer=\"char_wb\")),\n",
    "                #('best', TruncatedSVD(n_components=100)),\n",
    "            ])),\n",
    "            ('tfidf', Pipeline([\n",
    "                 ('selector', TextCleaner()),\n",
    "                 ('tfidf', TfidfVectorizer(analyzer=\"word\", stop_words=stop_words)),\n",
    "                 #('best', TruncatedSVD(n_components=10)), \n",
    "             ])),\n",
    "            ('count_vectorizer_default', Pipeline([\n",
    "                ('selector', TextNormalizer()),\n",
    "                ('cv', CountVectorizer(min_df=0.0001, max_df=0.95, stop_words=stop_words, analyzer='word')),                                \n",
    "            ])),\n",
    "\n",
    "        ],\n",
    "        transformer_weights={ \n",
    "            'count_vectorizer': 1,\n",
    "            'tfidf': 1,\n",
    "            'count_vectorizer_default': 1\n",
    "       },\n",
    "    )),\n",
    "\n",
    "    #('model', SVC(kernel='linear')) #rbf, sigmoid, polynomial\n",
    "    ('model', RandomForestClassifierWithCoef(n_estimators=512, min_samples_leaf=5, n_jobs=-1))\n",
    "    \n",
    "])\n",
    "\n",
    "comments_x = list(r['comment'] for r in normal_rows)\n",
    "ratings_y = list(r['isFive'] for r in normal_rows)\n",
    "\n",
    "evaluate_cross_validation(pipeline, comments_x, ratings_y, 6)"
   ]
  },
  {
   "cell_type": "code",
   "execution_count": 26,
   "metadata": {},
   "outputs": [
    {
     "data": {
      "text/plain": [
       "Pipeline(steps=[('union', FeatureUnion(n_jobs=1,\n",
       "       transformer_list=[('count_vectorizer', Pipeline(steps=[('selector', TextCleaner()), ('cv', CountVectorizer(analyzer='char_wb', binary=False, decode_error='strict',\n",
       "        dtype=<class 'numpy.int64'>, encoding='utf-8', input='content',\n",
       "        lowercase...,\n",
       "                oob_score=False, random_state=None, verbose=0,\n",
       "                warm_start=False))])"
      ]
     },
     "execution_count": 26,
     "metadata": {},
     "output_type": "execute_result"
    }
   ],
   "source": [
    "def to_dataframe(normal_rows):\n",
    "    tmp_df = pd.DataFrame()\n",
    "    tmp_df['comment'] = list(r['comment'] for r in normal_rows)\n",
    "    tmp_df['isFive'] = list(r['isFive'] for r in normal_rows)\n",
    "    return tmp_df\n",
    "\n",
    "feedback_df = to_dataframe(normal_rows)\n",
    "pipeline.fit(feedback_df['comment'], feedback_df['isFive'])"
   ]
  },
  {
   "cell_type": "code",
   "execution_count": 32,
   "metadata": {},
   "outputs": [
    {
     "name": "stdout",
     "output_type": "stream",
     "text": [
      "             precision    recall  f1-score   support\n",
      "\n",
      "         -1       0.74      0.94      0.83      1603\n",
      "          1       0.97      0.85      0.90      3475\n",
      "\n",
      "avg / total       0.90      0.88      0.88      5078\n",
      "\n"
     ]
    }
   ],
   "source": [
    "\n",
    "X_train, X_test, y_train, y_test = train_test_split(feedback_df['comment'], feedback_df['isFive'], test_size = 0.33, random_state=42)\n",
    "print(classification_report(pipeline.predict(X_test), y_test))\n",
    "\n",
    "pickle.dump(pipeline, open('mvideo.feedback.pickle', 'wb'))"
   ]
  },
  {
   "cell_type": "code",
   "execution_count": 53,
   "metadata": {},
   "outputs": [
    {
     "name": "stdout",
     "output_type": "stream",
     "text": [
      "[ 1 -1  1 -1]\n"
     ]
    }
   ],
   "source": [
    "result = pipeline.predict([\"Отличная скороварка, просто прелесть что за агрегат!\", \n",
    "                           \"Сломался этот ваш телевизор на второй день\",\n",
    "                           \"Так себе оказалась фритюрница, на троечку\",\n",
    "                           \"Не советую брать этот смартфон, очень плохой звук\"])\n",
    "print(result)"
   ]
  },
  {
   "cell_type": "code",
   "execution_count": null,
   "metadata": {
    "collapsed": true
   },
   "outputs": [],
   "source": []
  }
 ],
 "metadata": {
  "kernelspec": {
   "display_name": "Python 3",
   "language": "python",
   "name": "python3"
  },
  "language_info": {
   "codemirror_mode": {
    "name": "ipython",
    "version": 3
   },
   "file_extension": ".py",
   "mimetype": "text/x-python",
   "name": "python",
   "nbconvert_exporter": "python",
   "pygments_lexer": "ipython3",
   "version": "3.6.1"
  }
 },
 "nbformat": 4,
 "nbformat_minor": 2
}
