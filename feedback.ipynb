{
 "cells": [
  {
   "cell_type": "markdown",
   "metadata": {},
   "source": [
    "## Loading data\n",
    "\n",
    "import dependencies"
   ]
  },
  {
   "cell_type": "code",
   "execution_count": 81,
   "metadata": {
    "collapsed": true
   },
   "outputs": [],
   "source": [
    "import pandas as pd\n",
    "import matplotlib.pyplot as plt\n",
    "import collections\n",
    "import numpy as np\n",
    "\n",
    "from sklearn.feature_extraction.text import CountVectorizer\n",
    "from sklearn import metrics\n",
    "from sklearn.model_selection import cross_val_score\n",
    "from sklearn.model_selection import StratifiedKFold\n",
    "from sklearn.ensemble import RandomForestClassifier\n",
    "from sklearn.feature_selection import RFECV\n",
    "\n",
    "from sklearn.decomposition import TruncatedSVD\n",
    "from sklearn.feature_extraction import DictVectorizer\n",
    "from sklearn.feature_extraction.text import TfidfVectorizer\n",
    "from sklearn.metrics import classification_report\n",
    "from sklearn.pipeline import FeatureUnion\n",
    "from sklearn.pipeline import Pipeline\n",
    "from sklearn.svm import SVC\n",
    "from sklearn.base import BaseEstimator, TransformerMixin\n",
    "\n",
    "import pymorphy2\n",
    "import re"
   ]
  },
  {
   "cell_type": "markdown",
   "metadata": {},
   "source": [
    "load csv file "
   ]
  },
  {
   "cell_type": "code",
   "execution_count": 82,
   "metadata": {},
   "outputs": [
    {
     "name": "stdout",
     "output_type": "stream",
     "text": [
      "Data frame size: (15587, 5)\n"
     ]
    }
   ],
   "source": [
    "fields = ['sku', 'comment', 'commentNegative', 'commentPositive', 'reting']\n",
    "raw_data = pd.read_csv('feedback.csv/X_train.csv', delimiter=',', usecols=fields)\n",
    "print('Data frame size:',raw_data.shape)"
   ]
  },
  {
   "cell_type": "markdown",
   "metadata": {},
   "source": [
    "## Preprocessing\n",
    "\n",
    "display the distribution of ratings"
   ]
  },
  {
   "cell_type": "code",
   "execution_count": 83,
   "metadata": {},
   "outputs": [
    {
     "data": {
      "image/png": "[encoded data removed]",
      "text/plain": [
       "<matplotlib.figure.Figure at 0x1240e77b8>"
      ]
     },
     "metadata": {},
     "output_type": "display_data"
    }
   ],
   "source": [
    "def arrangeByRating(data):\n",
    "    r_data = {}\n",
    "    for row in data:\n",
    "        r = row['reting']\n",
    "        if not r.is_integer():\n",
    "            continue\n",
    "        isFive = -1\n",
    "        if r == 5:\n",
    "            isFive = 1\n",
    "        row['isFive'] = isFive\n",
    "        if r in r_data:\n",
    "            r_data[r].append(row)\n",
    "        else:\n",
    "            r_data[r] = []\n",
    "    return collections.OrderedDict(sorted(r_data.items()))\n",
    "\n",
    "def plotDistByRating(data):\n",
    "    ratings = list(data.keys())\n",
    "    numbers = list(map(lambda x: len(x), data.values()))\n",
    "\n",
    "    plt.bar(ratings,numbers)\n",
    "    plt.ylabel('number of feedbacks')\n",
    "    plt.xlabel('rating')\n",
    "    plt.show()\n",
    "\n",
    "rows = map(lambda x: x[1], raw_data.iterrows())\n",
    "ratings_data = arrangeByRating(rows);\n",
    "plotDistByRating(ratings_data)"
   ]
  },
  {
   "cell_type": "markdown",
   "metadata": {},
   "source": [
    "normalize data"
   ]
  },
  {
   "cell_type": "code",
   "execution_count": 84,
   "metadata": {},
   "outputs": [
    {
     "name": "stdout",
     "output_type": "stream",
     "text": [
      "Feedbacks per rating: 853\n"
     ]
    }
   ],
   "source": [
    "rows = list(ratings_data.values())\n",
    "numbers = list(map(lambda x: len(x), rows))\n",
    "feedbacks_per_rating = min(numbers)\n",
    "normal_rows = []\n",
    "\n",
    "for r in range(5):\n",
    "    np.random.shuffle(rows[r])\n",
    "\n",
    "for r in range(5):\n",
    "    limited_rows = rows[r][:feedbacks_per_rating]\n",
    "    normal_rows.extend(limited_rows)\n",
    "    \n",
    "np.random.shuffle(normal_rows)\n",
    "    \n",
    "print('Feedbacks per rating:',feedbacks_per_rating)"
   ]
  },
  {
   "cell_type": "markdown",
   "metadata": {},
   "source": [
    "check the distribution of reviews"
   ]
  },
  {
   "cell_type": "code",
   "execution_count": 85,
   "metadata": {},
   "outputs": [
    {
     "data": {
      "image/png": "[encoded data removed]",
      "text/plain": [
       "<matplotlib.figure.Figure at 0x119ffe550>"
      ]
     },
     "metadata": {},
     "output_type": "display_data"
    }
   ],
   "source": [
    "ratings_data = arrangeByRating(normal_rows)\n",
    "plotDistByRating(ratings_data)"
   ]
  },
  {
   "cell_type": "markdown",
   "metadata": {
    "collapsed": true
   },
   "source": [
    "## Simple model"
   ]
  },
  {
   "cell_type": "code",
   "execution_count": 86,
   "metadata": {},
   "outputs": [
    {
     "name": "stdout",
     "output_type": "stream",
     "text": [
      "[ 0.40631579  0.40633803  0.41760563]\n",
      "Mean score: 0.410 (+/-0.005)\n"
     ]
    }
   ],
   "source": [
    "count_vectorizer = CountVectorizer(min_df=0.0001, max_df=0.95, ngram_range=(1,3))\n",
    "\n",
    "def evaluate_cross_validation(clf, X, y, K):\n",
    "    cv = StratifiedKFold(K, shuffle=True, random_state=42)\n",
    "    scores = cross_val_score(clf, X, y, scoring='accuracy', cv=cv) \n",
    "    print(scores)\n",
    "    print(\"Mean score: {0:.3f} (+/-{1:.3f})\".format(scores.mean(), scores.std()))\n",
    "    \n",
    "class RandomForestClassifierWithCoef(RandomForestClassifier):\n",
    "    def fit(self, *args, **kwargs):\n",
    "        super(RandomForestClassifierWithCoef, self).fit(*args, **kwargs)\n",
    "        self.coef_ = self.feature_importances_\n",
    "        \n",
    "X = count_vectorizer.fit_transform((r['comment'] for r in normal_rows))\n",
    "y = list(r['reting'] for r in normal_rows)\n",
    "\n",
    "clf = RandomForestClassifierWithCoef(n_estimators=1500, min_samples_leaf=10, n_jobs=-1)\n",
    "evaluate_cross_validation(clf, X, y, 3)"
   ]
  },
  {
   "cell_type": "markdown",
   "metadata": {},
   "source": [
    "## Smarter model\n",
    "\n",
    "morphological normalization, etc."
   ]
  },
  {
   "cell_type": "code",
   "execution_count": 96,
   "metadata": {},
   "outputs": [],
   "source": [
    "morph = pymorphy2.MorphAnalyzer()\n",
    "\n",
    "regex_clear = re.compile('[^а-яё]',re.DOTALL)\n",
    "regex_space = re.compile('\\s{1,}',re.DOTALL)\n",
    "\n",
    "def clear(text):\n",
    "    tmp = re.sub(regex_clear, ' ', text.lower().replace('ё', 'е'))\n",
    "    return re.sub(regex_space, ' ', tmp)\n",
    "\n",
    "def prepare(text):\n",
    "    return text.lower()\n",
    "\n",
    "def to_normal(word):\n",
    "    return morph.parse(word)[0].normal_form\n",
    "    \n",
    "def normalize(text):\n",
    "    words = []\n",
    "    for word in text.split(' '):\n",
    "        words.append(to_normal(word))\n",
    "    norm=' '.join(words)  \n",
    "    return norm.replace('ё', 'е')\n",
    "\n",
    "class TextNormalizer(BaseEstimator, TransformerMixin):\n",
    "    def fit(self, x, y=None):\n",
    "        return self\n",
    "    def transform(self, texts):\n",
    "        cleared = [clear(text) for text in texts]\n",
    "        return [normalize(text) for text in texts]\n",
    "    \n",
    "class TextCleaner(BaseEstimator, TransformerMixin):\n",
    "    def fit(self, x, y=None):\n",
    "        return self\n",
    "    def transform(self, texts):\n",
    "        return [prepare(text) for text in texts]"
   ]
  },
  {
   "cell_type": "code",
   "execution_count": 97,
   "metadata": {},
   "outputs": [
    {
     "name": "stdout",
     "output_type": "stream",
     "text": [
      "[ 0.28        0.29859155  0.29859155]\n",
      "Mean score: 0.292 (+/-0.009)\n"
     ]
    }
   ],
   "source": [
    "pipeline = Pipeline([\n",
    "    ('union', FeatureUnion(\n",
    "        transformer_list=[\n",
    "            ('count_vectorizer', Pipeline([\n",
    "                ('selector', TextNormalizer()),\n",
    "                ('cv', CountVectorizer(min_df=0.0001, max_df=0.95, ngram_range=(3,3))),\n",
    "                #('best', TruncatedSVD(n_components=3000)),\n",
    "            ])),\n",
    "            ('tfidf', Pipeline([\n",
    "                 ('selector', TextNormalizer()),\n",
    "                 ('tfidf', TfidfVectorizer()),\n",
    "                 #('best', TruncatedSVD(n_components=100)), \n",
    "             ])),\n",
    "            ('count_vectorizer_default', Pipeline([\n",
    "                #('selector', TextCleaner()),\n",
    "                ('cv', CountVectorizer(min_df=0.0001, max_df=0.95, ngram_range=(3,3), analyzer='word')),                                \n",
    "            ])),\n",
    "\n",
    "        ],\n",
    "        transformer_weights={ \n",
    "            'count_vectorizer': 1,\n",
    "            'tfidf': 1\n",
    "       },\n",
    "    )),\n",
    "\n",
    "    ('model', SVC(kernel='linear')) #rbf, sigmoid, polynomial\n",
    "    #('model', RandomForestClassifierWithCoef(n_estimators=768, min_samples_leaf=3, n_jobs=-1))\n",
    "    \n",
    "])\n",
    "\n",
    "comments_x = list(r['comment'] for r in normal_rows)\n",
    "ratings_y = list(r['reting'] for r in normal_rows)\n",
    "\n",
    "evaluate_cross_validation(pipeline, comments_x, ratings_y, 3)"
   ]
  },
  {
   "cell_type": "markdown",
   "metadata": {},
   "source": []
  }
 ],
 "metadata": {
  "kernelspec": {
   "display_name": "Python 3",
   "language": "python",
   "name": "python3"
  },
  "language_info": {
   "codemirror_mode": {
    "name": "ipython",
    "version": 3
   },
   "file_extension": ".py",
   "mimetype": "text/x-python",
   "name": "python",
   "nbconvert_exporter": "python",
   "pygments_lexer": "ipython3",
   "version": "3.6.1"
  }
 },
 "nbformat": 4,
 "nbformat_minor": 2
}
