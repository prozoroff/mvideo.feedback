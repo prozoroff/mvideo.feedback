{
 "cells": [
  {
   "cell_type": "markdown",
   "metadata": {},
   "source": [
    "## Loading data\n",
    "\n",
    "import dependencies"
   ]
  },
  {
   "cell_type": "code",
   "execution_count": 1,
   "metadata": {},
   "outputs": [],
   "source": [
    "import pandas as pd\n",
    "import matplotlib.pyplot as plt\n",
    "import collections\n",
    "import numpy as np\n",
    "import operator\n",
    "\n",
    "from sklearn.feature_extraction.text import CountVectorizer\n",
    "from sklearn import metrics\n",
    "from sklearn.model_selection import cross_val_score\n",
    "from sklearn.model_selection import StratifiedKFold\n",
    "from sklearn.ensemble import RandomForestClassifier\n",
    "from sklearn.feature_selection import RFECV\n",
    "\n",
    "from sklearn.decomposition import TruncatedSVD\n",
    "from sklearn.feature_extraction import DictVectorizer\n",
    "from sklearn.feature_extraction.text import TfidfVectorizer\n",
    "from sklearn.metrics import classification_report\n",
    "from sklearn.pipeline import FeatureUnion\n",
    "from sklearn.pipeline import Pipeline\n",
    "from sklearn.svm import SVC\n",
    "from sklearn.base import BaseEstimator, TransformerMixin\n",
    "from sklearn.metrics import classification_report\n",
    "from sklearn.model_selection import train_test_split\n",
    "\n",
    "import pymorphy2\n",
    "import re\n",
    "from stop_words import get_stop_words\n",
    "import pickle"
   ]
  },
  {
   "cell_type": "markdown",
   "metadata": {},
   "source": [
    "load csv file "
   ]
  },
  {
   "cell_type": "code",
   "execution_count": 2,
   "metadata": {},
   "outputs": [
    {
     "name": "stdout",
     "output_type": "stream",
     "text": [
      "Data frame size: (15587, 5)\n"
     ]
    }
   ],
   "source": [
    "fields = ['sku', 'comment', 'commentNegative', 'commentPositive', 'reting']\n",
    "raw_data = pd.read_csv('feedback.csv/X_train.csv', delimiter=',', usecols=fields)\n",
    "print('Data frame size:',raw_data.shape)"
   ]
  },
  {
   "cell_type": "markdown",
   "metadata": {},
   "source": [
    "## Preprocessing\n",
    "\n",
    "display the distribution of ratings"
   ]
  },
  {
   "cell_type": "code",
   "execution_count": 3,
   "metadata": {},
   "outputs": [
    {
     "name": "stdout",
     "output_type": "stream",
     "text": [
      "distribution by rating\n"
     ]
    },
    {
     "data": {
      "image/png": "[encoded data removed]",
      "text/plain": [
       "<matplotlib.figure.Figure at 0x196e168e128>"
      ]
     },
     "metadata": {},
     "output_type": "display_data"
    },
    {
     "name": "stdout",
     "output_type": "stream",
     "text": [
      "distribution by five / no five\n"
     ]
    },
    {
     "data": {
      "image/png": "[encoded data removed]",
      "text/plain": [
       "<matplotlib.figure.Figure at 0x196e2beff28>"
      ]
     },
     "metadata": {},
     "output_type": "display_data"
    },
    {
     "name": "stdout",
     "output_type": "stream",
     "text": [
      "distribution by no five rating\n"
     ]
    },
    {
     "data": {
      "image/png": "[encoded data removed]",
      "text/plain": [
       "<matplotlib.figure.Figure at 0x196e3119ef0>"
      ]
     },
     "metadata": {},
     "output_type": "display_data"
    }
   ],
   "source": [
    "def arrangeBy(data, param):\n",
    "    r_data = {}\n",
    "    for row in data:\n",
    "        if param in row:\n",
    "            r = row[param]\n",
    "            if r in r_data:\n",
    "                r_data[r].append(row)\n",
    "            else:\n",
    "                r_data[r] = []\n",
    "    return collections.OrderedDict(sorted(r_data.items()))\n",
    "\n",
    "def plotDist(data):\n",
    "    ratings = list(data.keys())\n",
    "    numbers = list(map(lambda x: len(x), data.values()))\n",
    "\n",
    "    plt.bar(ratings,numbers)\n",
    "    plt.ylabel('number of feedbacks')\n",
    "    plt.show()\n",
    "\n",
    "rows_all = list(map(lambda x: x[1], raw_data.iterrows()))\n",
    "rows = []\n",
    "\n",
    "for row in rows_all:\n",
    "    isFive = -1\n",
    "    if not row['reting'].is_integer():\n",
    "        continue\n",
    "    if row['reting'] == 5:\n",
    "        isFive = 1\n",
    "    else:\n",
    "        row['noFiveRating'] = -1 + row['reting']\n",
    "    row['isFive'] = isFive\n",
    "    rows.append(row)\n",
    "\n",
    "print('distribution by rating')\n",
    "ratings_data_by_rating = arrangeBy(list(rows),'reting');\n",
    "plotDist(ratings_data_by_rating)\n",
    "\n",
    "print('distribution by five / no five')\n",
    "ratings_data_by_five = arrangeBy(list(rows),'isFive');\n",
    "plotDist(ratings_data_by_five)\n",
    "\n",
    "print('distribution by no five rating')\n",
    "ratings_data_by_no_five_rating = arrangeBy(list(rows),'noFiveRating');\n",
    "plotDist(ratings_data_by_no_five_rating)"
   ]
  },
  {
   "cell_type": "markdown",
   "metadata": {},
   "source": [
    "normalize five / no five data"
   ]
  },
  {
   "cell_type": "code",
   "execution_count": 4,
   "metadata": {},
   "outputs": [
    {
     "name": "stdout",
     "output_type": "stream",
     "text": [
      "five feedbacks number: 6175\n",
      "five / no five feedbacks number: 12350\n"
     ]
    }
   ],
   "source": [
    "rows = list(ratings_data_by_five.values())\n",
    "\n",
    "numbers = list(map(lambda x: len(x), rows))\n",
    "feedbacks_per_five = int(sum(numbers) - max(numbers))\n",
    "\n",
    "print('five feedbacks number:',feedbacks_per_five)\n",
    "\n",
    "normal_rows_five = []\n",
    "normal_rows_five = list(rows[0][:feedbacks_per_five])\n",
    "normal_rows_five.extend(list(rows[1][:feedbacks_per_five]))\n",
    "np.random.shuffle(normal_rows_five)\n",
    "    \n",
    "print('five / no five feedbacks number:',len(normal_rows_five))"
   ]
  },
  {
   "cell_type": "markdown",
   "metadata": {},
   "source": [
    "normalize no five data"
   ]
  },
  {
   "cell_type": "code",
   "execution_count": 15,
   "metadata": {},
   "outputs": [
    {
     "name": "stdout",
     "output_type": "stream",
     "text": [
      "no five feedbacks number: 1543\n",
      "no five feedbacks number: 5107\n"
     ]
    }
   ],
   "source": [
    "rows = list(ratings_data_by_no_five_rating.values())\n",
    "\n",
    "numbers = list(map(lambda x: len(x), rows))\n",
    "feedbacks_per_no_five = int(sum(numbers)/4)\n",
    "\n",
    "print('no five feedbacks number:',feedbacks_per_no_five)\n",
    "\n",
    "normal_rows_no_five = []\n",
    "normal_rows_no_five = list(rows[0][:feedbacks_per_no_five])\n",
    "normal_rows_no_five.extend(list(rows[1][:feedbacks_per_no_five]))\n",
    "normal_rows_no_five.extend(list(rows[2][:feedbacks_per_no_five]))\n",
    "normal_rows_no_five.extend(list(rows[3][:feedbacks_per_no_five]))\n",
    "np.random.shuffle(normal_rows_no_five)\n",
    "    \n",
    "print('no five feedbacks number:',len(normal_rows_no_five))"
   ]
  },
  {
   "cell_type": "markdown",
   "metadata": {},
   "source": [
    "check the distribution of ratings"
   ]
  },
  {
   "cell_type": "code",
   "execution_count": 16,
   "metadata": {},
   "outputs": [
    {
     "name": "stdout",
     "output_type": "stream",
     "text": [
      "normalized distribution for five / no five fata\n"
     ]
    },
    {
     "data": {
      "image/png": "[encoded data removed]",
      "text/plain": [
       "<matplotlib.figure.Figure at 0x196e31b3f60>"
      ]
     },
     "metadata": {},
     "output_type": "display_data"
    },
    {
     "name": "stdout",
     "output_type": "stream",
     "text": [
      "normalized distribution for no five ratings\n"
     ]
    },
    {
     "data": {
      "image/png": "[encoded data removed]",
      "text/plain": [
       "<matplotlib.figure.Figure at 0x196e3d66f98>"
      ]
     },
     "metadata": {},
     "output_type": "display_data"
    }
   ],
   "source": [
    "print('normalized distribution for five / no five fata')\n",
    "plotDist(arrangeBy(normal_rows_five, 'isFive'))\n",
    "\n",
    "print('normalized distribution for no five ratings')\n",
    "plotDist(arrangeBy(normal_rows_no_five, 'noFiveRating'))"
   ]
  },
  {
   "cell_type": "markdown",
   "metadata": {
    "collapsed": true
   },
   "source": [
    "## Simple model"
   ]
  },
  {
   "cell_type": "code",
   "execution_count": 17,
   "metadata": {},
   "outputs": [],
   "source": [
    "def evaluate_cross_validation(clf, X, y, K):\n",
    "    cv = StratifiedKFold(K, shuffle=True, random_state=42)\n",
    "    scores = cross_val_score(clf, X, y, scoring='accuracy', cv=cv) \n",
    "    print(scores)\n",
    "    print(\"Mean score: {0:.3f} (+/-{1:.3f})\".format(scores.mean(), scores.std()))\n",
    "    \n",
    "class RandomForestClassifierWithCoef(RandomForestClassifier):\n",
    "    def fit(self, *args, **kwargs):\n",
    "        super(RandomForestClassifierWithCoef, self).fit(*args, **kwargs)\n",
    "        self.coef_ = self.feature_importances_\n",
    "\n",
    "stop_words = stop_words = get_stop_words('ru')"
   ]
  },
  {
   "cell_type": "markdown",
   "metadata": {},
   "source": [
    "five / no five model"
   ]
  },
  {
   "cell_type": "code",
   "execution_count": 18,
   "metadata": {},
   "outputs": [
    {
     "name": "stdout",
     "output_type": "stream",
     "text": [
      "the most frequent words [('доволен', 703), ('рекомендую', 710), ('деньги', 715), ('видео', 721), ('супер', 733), ('купили', 736), ('купила', 740), ('цена', 765), ('хороший', 833), ('отличный', 844), ('модель', 855), ('звук', 889), ('отлично', 895), ('вообще', 904), ('быстро', 908), ('советую', 1004), ('пользуюсь', 1023), ('качество', 1089), ('купил', 1412), ('работает', 1631)]\n",
      "[ 0.76407767  0.75996113  0.7696793   0.76822157  0.75121477  0.77308066]\n",
      "Mean score: 0.764 (+/-0.007)\n"
     ]
    }
   ],
   "source": [
    "count_vectorizer_five = CountVectorizer(min_df=0.0001, max_df=0.95, analyzer=\"word\", stop_words=stop_words)\n",
    "\n",
    "X = count_vectorizer_five.fit_transform((r['comment'] for r in normal_rows_five))\n",
    "y = list(r['isFive'] for r in normal_rows_five)\n",
    "\n",
    "frequent_words = dict(zip(count_vectorizer_five.get_feature_names(),np.asarray(X.sum(axis=0)).ravel()))\n",
    "sorted_frequent_words = sorted(frequent_words.items(), key=operator.itemgetter(1))\n",
    "print('the most frequent words', sorted_frequent_words[-20:])\n",
    "\n",
    "clf_five = RandomForestClassifierWithCoef(n_estimators=512, min_samples_leaf=10, n_jobs=-1)\n",
    "evaluate_cross_validation(clf_five, X, y, 6)"
   ]
  },
  {
   "cell_type": "markdown",
   "metadata": {},
   "source": [
    "no five ratings model"
   ]
  },
  {
   "cell_type": "code",
   "execution_count": 19,
   "metadata": {},
   "outputs": [
    {
     "name": "stdout",
     "output_type": "stream",
     "text": [
      "the most frequent words [('первоначальное', 240), ('фонить', 245), ('стойкой', 246), ('приятным', 256), ('электрик', 258), ('съедается', 262), ('служат', 265), ('вытащили', 297), ('готов', 298), ('окна', 299), ('вставлен', 304), ('окей', 322), ('перезагружается', 339), ('паз', 348), ('здравый', 361), ('менеджеров', 383), ('настройки', 413), ('гуляет', 469), ('окантовку', 573), ('эпиляторов', 594)]\n",
      "[ 0.47775176  0.49413146  0.47708578  0.48588235  0.47764706  0.47411765]\n",
      "Mean score: 0.481 (+/-0.007)\n"
     ]
    }
   ],
   "source": [
    "count_vectorizer_no_five = CountVectorizer(min_df=0.0001, max_df=0.95, analyzer=\"word\", stop_words=stop_words)\n",
    "\n",
    "X = count_vectorizer_no_five.fit_transform((r['comment'] for r in normal_rows_no_five))\n",
    "y = list(r['noFiveRating'] for r in normal_rows_no_five)\n",
    "\n",
    "frequent_words = dict(zip(count_vectorizer_five.get_feature_names(),np.asarray(X.sum(axis=0)).ravel()))\n",
    "sorted_frequent_words = sorted(frequent_words.items(), key=operator.itemgetter(1))\n",
    "print('the most frequent words', sorted_frequent_words[-20:])\n",
    "\n",
    "clf_no_five = RandomForestClassifierWithCoef(n_estimators=512, min_samples_leaf=10, n_jobs=-1)\n",
    "evaluate_cross_validation(clf_no_five, X, y, 6)"
   ]
  },
  {
   "cell_type": "markdown",
   "metadata": {},
   "source": [
    "## Smarter model\n",
    "\n",
    "morphological normalization, etc."
   ]
  },
  {
   "cell_type": "code",
   "execution_count": 20,
   "metadata": {
    "collapsed": true
   },
   "outputs": [],
   "source": [
    "morph = pymorphy2.MorphAnalyzer()\n",
    "\n",
    "regex_clear = re.compile('[^а-яё]',re.DOTALL)\n",
    "regex_space = re.compile('\\s{1,}',re.DOTALL)\n",
    "\n",
    "def clear(text):\n",
    "    tmp = re.sub(regex_clear, ' ', text.lower().replace('ё', 'е'))\n",
    "    return re.sub(regex_space, ' ', tmp)\n",
    "\n",
    "def prepare(text):\n",
    "    return text.lower()\n",
    "\n",
    "def to_normal(word):\n",
    "    return morph.parse(word)[0].normal_form\n",
    "    \n",
    "def normalize(text):\n",
    "    words = []\n",
    "    for word in text.split(' '):\n",
    "        words.append(to_normal(word))\n",
    "    norm=' '.join(words)  \n",
    "    return norm.replace('ё', 'е')\n",
    "\n",
    "class TextNormalizer(BaseEstimator, TransformerMixin):\n",
    "    def fit(self, x, y=None):\n",
    "        return self\n",
    "    def transform(self, texts):\n",
    "        cleared = [clear(text) for text in texts]\n",
    "        return [normalize(text) for text in texts]\n",
    "    \n",
    "class TextCleaner(BaseEstimator, TransformerMixin):\n",
    "    def fit(self, x, y=None):\n",
    "        return self\n",
    "    def transform(self, texts):\n",
    "        return [prepare(text) for text in texts]"
   ]
  },
  {
   "cell_type": "code",
   "execution_count": 21,
   "metadata": {},
   "outputs": [],
   "source": [
    "pipeline = Pipeline([\n",
    "    ('union', FeatureUnion(\n",
    "        transformer_list=[\n",
    "            ('count_vectorizer', Pipeline([\n",
    "                ('selector', TextCleaner()),\n",
    "                ('cv', CountVectorizer(min_df=0.0001, max_df=0.95, ngram_range=(4,4), analyzer=\"char_wb\")),\n",
    "                #('best', TruncatedSVD(n_components=100)),\n",
    "            ])),\n",
    "            ('tfidf', Pipeline([\n",
    "                 ('selector', TextCleaner()),\n",
    "                 ('tfidf', TfidfVectorizer(analyzer=\"word\", stop_words=stop_words)),\n",
    "                 #('best', TruncatedSVD(n_components=10)), \n",
    "             ])),\n",
    "            ('count_vectorizer_default', Pipeline([\n",
    "                ('selector', TextNormalizer()),\n",
    "                ('cv', CountVectorizer(min_df=0.0001, max_df=0.95, stop_words=stop_words, analyzer='word')),                                \n",
    "            ])),\n",
    "\n",
    "        ],\n",
    "        transformer_weights={ \n",
    "            'count_vectorizer': 1,\n",
    "            'tfidf': 1,\n",
    "            'count_vectorizer_default': 1\n",
    "       },\n",
    "    )),\n",
    "\n",
    "    #('model', SVC(kernel='linear')) #rbf, sigmoid, polynomial\n",
    "    ('model', RandomForestClassifierWithCoef(n_estimators=512, min_samples_leaf=5, n_jobs=-1))\n",
    "    \n",
    "])"
   ]
  },
  {
   "cell_type": "markdown",
   "metadata": {},
   "source": [
    "five / no five model"
   ]
  },
  {
   "cell_type": "code",
   "execution_count": null,
   "metadata": {
    "collapsed": true
   },
   "outputs": [],
   "source": [
    "comments_x = list(r['comment'] for r in normal_rows_five)\n",
    "ratings_y = list(r['isFive'] for r in normal_rows_five)\n",
    "\n",
    "evaluate_cross_validation(pipeline, comments_x, ratings_y, 3)"
   ]
  },
  {
   "cell_type": "markdown",
   "metadata": {},
   "source": [
    "no five ratings model"
   ]
  },
  {
   "cell_type": "code",
   "execution_count": 23,
   "metadata": {},
   "outputs": [
    {
     "name": "stdout",
     "output_type": "stream",
     "text": [
      "[ 0.47711268  0.48824912  0.47619048]\n",
      "Mean score: 0.481 (+/-0.005)\n"
     ]
    }
   ],
   "source": [
    "comments_x = list(r['comment'] for r in normal_rows_no_five)\n",
    "ratings_y = list(r['noFiveRating'] for r in normal_rows_no_five)\n",
    "\n",
    "evaluate_cross_validation(pipeline, comments_x, ratings_y, 3)"
   ]
  },
  {
   "cell_type": "code",
   "execution_count": 26,
   "metadata": {},
   "outputs": [
    {
     "data": {
      "text/plain": [
       "Pipeline(steps=[('union', FeatureUnion(n_jobs=1,\n",
       "       transformer_list=[('count_vectorizer', Pipeline(steps=[('selector', TextCleaner()), ('cv', CountVectorizer(analyzer='char_wb', binary=False, decode_error='strict',\n",
       "        dtype=<class 'numpy.int64'>, encoding='utf-8', input='content',\n",
       "        lowercase...,\n",
       "                oob_score=False, random_state=None, verbose=0,\n",
       "                warm_start=False))])"
      ]
     },
     "execution_count": 26,
     "metadata": {},
     "output_type": "execute_result"
    }
   ],
   "source": [
    "def to_dataframe(normal_rows):\n",
    "    tmp_df = pd.DataFrame()\n",
    "    tmp_df['comment'] = list(r['comment'] for r in normal_rows)\n",
    "    tmp_df['isFive'] = list(r['isFive'] for r in normal_rows)\n",
    "    return tmp_df\n",
    "\n",
    "feedback_df = to_dataframe(normal_rows_five)\n",
    "pipeline.fit(feedback_df['comment'], feedback_df['isFive'])"
   ]
  },
  {
   "cell_type": "code",
   "execution_count": 27,
   "metadata": {},
   "outputs": [
    {
     "name": "stdout",
     "output_type": "stream",
     "text": [
      "             precision    recall  f1-score   support\n",
      "\n",
      "         -1       0.88      0.88      0.88      2019\n",
      "          1       0.88      0.89      0.88      2057\n",
      "\n",
      "avg / total       0.88      0.88      0.88      4076\n",
      "\n"
     ]
    }
   ],
   "source": [
    "\n",
    "X_train, X_test, y_train, y_test = train_test_split(feedback_df['comment'], feedback_df['isFive'], test_size = 0.33, random_state=42)\n",
    "print(classification_report(pipeline.predict(X_test), y_test))\n",
    "\n",
    "pickle.dump(pipeline, open('mvideo.feedback.pickle', 'wb'))"
   ]
  },
  {
   "cell_type": "code",
   "execution_count": 28,
   "metadata": {},
   "outputs": [
    {
     "name": "stdout",
     "output_type": "stream",
     "text": [
      "[ 1 -1 -1 -1]\n"
     ]
    }
   ],
   "source": [
    "result = pipeline.predict([\"Отличная скороварка, просто прелесть что за агрегат!\", \n",
    "                           \"Сломался этот ваш телевизор на второй день\",\n",
    "                           \"Так себе оказалась фритюрница, на троечку\",\n",
    "                           \"Не советую брать этот смартфон, очень плохой звук\"])\n",
    "print(result)"
   ]
  },
  {
   "cell_type": "code",
   "execution_count": null,
   "metadata": {
    "collapsed": true
   },
   "outputs": [],
   "source": []
  }
 ],
 "metadata": {
  "kernelspec": {
   "display_name": "Python 3",
   "language": "python",
   "name": "python3"
  },
  "language_info": {
   "codemirror_mode": {
    "name": "ipython",
    "version": 3
   },
   "file_extension": ".py",
   "mimetype": "text/x-python",
   "name": "python",
   "nbconvert_exporter": "python",
   "pygments_lexer": "ipython3",
   "version": "3.6.1"
  }
 },
 "nbformat": 4,
 "nbformat_minor": 2
}
