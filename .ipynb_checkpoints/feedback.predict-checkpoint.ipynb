{
 "cells": [
  {
   "cell_type": "markdown",
   "metadata": {},
   "source": [
    "import dependencies"
   ]
  },
  {
   "cell_type": "code",
   "execution_count": 1,
   "metadata": {
    "collapsed": true
   },
   "outputs": [],
   "source": [
    "import pandas as pd\n",
    "import matplotlib.pyplot as plt\n",
    "import collections\n",
    "import numpy as np\n",
    "import operator\n",
    "\n",
    "from sklearn.feature_extraction.text import CountVectorizer\n",
    "from sklearn import metrics\n",
    "from sklearn.model_selection import cross_val_score\n",
    "from sklearn.model_selection import StratifiedKFold\n",
    "from sklearn.ensemble import RandomForestClassifier\n",
    "from sklearn.feature_selection import RFECV\n",
    "\n",
    "from sklearn.decomposition import TruncatedSVD\n",
    "from sklearn.feature_extraction import DictVectorizer\n",
    "from sklearn.feature_extraction.text import TfidfVectorizer\n",
    "from sklearn.metrics import classification_report\n",
    "from sklearn.pipeline import FeatureUnion\n",
    "from sklearn.pipeline import Pipeline\n",
    "from sklearn.svm import SVC\n",
    "from sklearn.base import BaseEstimator, TransformerMixin\n",
    "from sklearn.metrics import classification_report\n",
    "from sklearn.model_selection import train_test_split\n",
    "\n",
    "import pymorphy2\n",
    "import re\n",
    "from stop_words import get_stop_words\n",
    "import pickle"
   ]
  },
  {
   "cell_type": "code",
   "execution_count": 2,
   "metadata": {},
   "outputs": [
    {
     "name": "stdout",
     "output_type": "stream",
     "text": [
      "Data frame size: (15587, 5)\n"
     ]
    }
   ],
   "source": [
    "fields = ['sku', 'comment', 'commentNegative', 'commentPositive', 'reting']\n",
    "raw_data = pd.read_csv('feedback.csv/X_train.csv', delimiter=',', usecols=fields)\n",
    "print('Data frame size:',raw_data.shape)"
   ]
  },
  {
   "cell_type": "code",
   "execution_count": 22,
   "metadata": {},
   "outputs": [],
   "source": [
    "feedbacks = { '1234': [], '123': [], '5': [], '4': [] }\n",
    "rows_all = list(map(lambda x: x[1], raw_data.iterrows()))\n",
    "\n",
    "for row in rows_all:\n",
    "    if not row['reting'].is_integer():\n",
    "        continue\n",
    "    rating = row['reting']\n",
    "    if rating == 5:\n",
    "        feedbacks['5'].append(row)\n",
    "    elif rating == 4:\n",
    "        feedbacks['4'].append(row)\n",
    "        feedbacks['1234'].append(row)\n",
    "    else:\n",
    "        feedbacks['123'].append(row)\n",
    "        feedbacks['1234'].append(row)"
   ]
  },
  {
   "cell_type": "code",
   "execution_count": 27,
   "metadata": {},
   "outputs": [],
   "source": [
    "morph = pymorphy2.MorphAnalyzer()\n",
    "\n",
    "regex_clear = re.compile('[^а-яё]',re.DOTALL)\n",
    "regex_space = re.compile('\\s{1,}',re.DOTALL)\n",
    "\n",
    "def clear(text):\n",
    "    tmp = re.sub(regex_clear, ' ', text.lower().replace('ё', 'е'))\n",
    "    return re.sub(regex_space, ' ', tmp)\n",
    "\n",
    "def prepare(text):\n",
    "    return text.lower()\n",
    "\n",
    "def to_normal(word):\n",
    "    return morph.parse(word)[0].normal_form\n",
    "    \n",
    "def normalize(text):\n",
    "    words = []\n",
    "    for word in text.split(' '):\n",
    "        words.append(to_normal(word))\n",
    "    norm=' '.join(words)  \n",
    "    return norm.replace('ё', 'е')\n",
    "\n",
    "class TextNormalizer(BaseEstimator, TransformerMixin):\n",
    "    def fit(self, x, y=None):\n",
    "        return self\n",
    "    def transform(self, texts):\n",
    "        cleared = [clear(text) for text in texts]\n",
    "        return [normalize(text) for text in texts]\n",
    "    \n",
    "class TextCleaner(BaseEstimator, TransformerMixin):\n",
    "    def fit(self, x, y=None):\n",
    "        return self\n",
    "    def transform(self, texts):\n",
    "        return [prepare(text) for text in texts]\n",
    "    \n",
    "def evaluate_cross_validation(clf, X, y, K):\n",
    "    cv = StratifiedKFold(K, shuffle=True, random_state=42)\n",
    "    scores = cross_val_score(clf, X, y, scoring='accuracy', cv=cv) \n",
    "    print(scores)\n",
    "    print(\"Mean score: {0:.3f} (+/-{1:.3f})\".format(scores.mean(), scores.std()))\n",
    "    \n",
    "class RandomForestClassifierWithCoef(RandomForestClassifier):\n",
    "    def fit(self, *args, **kwargs):\n",
    "        super(RandomForestClassifierWithCoef, self).fit(*args, **kwargs)\n",
    "        self.coef_ = self.feature_importances_"
   ]
  },
  {
   "cell_type": "code",
   "execution_count": 28,
   "metadata": {},
   "outputs": [],
   "source": [
    "pipeline = Pipeline([\n",
    "    ('union', FeatureUnion(\n",
    "        transformer_list=[\n",
    "            ('count_vectorizer', Pipeline([\n",
    "                ('selector', TextCleaner()),\n",
    "                ('cv', CountVectorizer(min_df=0.0001, max_df=0.95, ngram_range=(4,4), analyzer=\"char_wb\")),\n",
    "                #('best', TruncatedSVD(n_components=100)),\n",
    "            ])),\n",
    "            ('tfidf', Pipeline([\n",
    "                 ('selector', TextCleaner()),\n",
    "                 ('tfidf', TfidfVectorizer(analyzer=\"word\", stop_words=stop_words)),\n",
    "                 #('best', TruncatedSVD(n_components=10)), \n",
    "             ])),\n",
    "            ('count_vectorizer_default', Pipeline([\n",
    "                ('selector', TextNormalizer()),\n",
    "                ('cv', CountVectorizer(min_df=0.0001, max_df=0.95, stop_words=get_stop_words('ru'), analyzer='word')),                                \n",
    "            ])),\n",
    "\n",
    "        ],\n",
    "        transformer_weights={ \n",
    "            'count_vectorizer': 1,\n",
    "            'tfidf': 1,\n",
    "            'count_vectorizer_default': 1\n",
    "       },\n",
    "    )),\n",
    "\n",
    "    #('model', SVC(kernel='linear')) #rbf, sigmoid, polynomial\n",
    "    ('model', RandomForestClassifierWithCoef(n_estimators=512, min_samples_leaf=5, n_jobs=-1))\n",
    "])"
   ]
  },
  {
   "cell_type": "code",
   "execution_count": 31,
   "metadata": {},
   "outputs": [
    {
     "name": "stdout",
     "output_type": "stream",
     "text": [
      "9211\n",
      "6176\n"
     ]
    },
    {
     "ename": "TypeError",
     "evalue": "'str' object does not support item assignment",
     "output_type": "error",
     "traceback": [
      "\u001b[1;31m---------------------------------------------------------------------------\u001b[0m",
      "\u001b[1;31mTypeError\u001b[0m                                 Traceback (most recent call last)",
      "\u001b[1;32m<ipython-input-31-13188d439629>\u001b[0m in \u001b[0;36m<module>\u001b[1;34m()\u001b[0m\n\u001b[0;32m     11\u001b[0m \u001b[0mprint\u001b[0m\u001b[1;33m(\u001b[0m\u001b[0mlen\u001b[0m\u001b[1;33m(\u001b[0m\u001b[0mfeedbacks\u001b[0m\u001b[1;33m[\u001b[0m\u001b[1;34m'5'\u001b[0m\u001b[1;33m]\u001b[0m\u001b[1;33m)\u001b[0m\u001b[1;33m)\u001b[0m\u001b[1;33m\u001b[0m\u001b[0m\n\u001b[0;32m     12\u001b[0m \u001b[0mprint\u001b[0m\u001b[1;33m(\u001b[0m\u001b[0mlen\u001b[0m\u001b[1;33m(\u001b[0m\u001b[0mfeedbacks\u001b[0m\u001b[1;33m[\u001b[0m\u001b[1;34m'1234'\u001b[0m\u001b[1;33m]\u001b[0m\u001b[1;33m)\u001b[0m\u001b[1;33m)\u001b[0m\u001b[1;33m\u001b[0m\u001b[0m\n\u001b[1;32m---> 13\u001b[1;33m \u001b[0mprint\u001b[0m\u001b[1;33m(\u001b[0m\u001b[0mlen\u001b[0m\u001b[1;33m(\u001b[0m\u001b[0mgetShuffledNormalizedFeedbacks\u001b[0m\u001b[1;33m(\u001b[0m\u001b[1;34m'5'\u001b[0m\u001b[1;33m,\u001b[0m \u001b[1;34m'1234'\u001b[0m\u001b[1;33m)\u001b[0m\u001b[1;33m)\u001b[0m\u001b[1;33m)\u001b[0m\u001b[1;33m\u001b[0m\u001b[0m\n\u001b[0m",
      "\u001b[1;32m<ipython-input-31-13188d439629>\u001b[0m in \u001b[0;36mgetShuffledNormalizedFeedbacks\u001b[1;34m(first, second)\u001b[0m\n\u001b[0;32m      3\u001b[0m     \u001b[0mfeedbacksNumber\u001b[0m \u001b[1;33m=\u001b[0m \u001b[0mmin\u001b[0m\u001b[1;33m(\u001b[0m\u001b[0mlen\u001b[0m\u001b[1;33m(\u001b[0m\u001b[0mfirst\u001b[0m\u001b[1;33m)\u001b[0m\u001b[1;33m,\u001b[0m \u001b[0mlen\u001b[0m\u001b[1;33m(\u001b[0m\u001b[0msecond\u001b[0m\u001b[1;33m)\u001b[0m\u001b[1;33m)\u001b[0m\u001b[1;33m\u001b[0m\u001b[0m\n\u001b[0;32m      4\u001b[0m     \u001b[0mnp\u001b[0m\u001b[1;33m.\u001b[0m\u001b[0mrandom\u001b[0m\u001b[1;33m.\u001b[0m\u001b[0mshuffle\u001b[0m\u001b[1;33m(\u001b[0m\u001b[0mfirst\u001b[0m\u001b[1;33m)\u001b[0m\u001b[1;33m\u001b[0m\u001b[0m\n\u001b[1;32m----> 5\u001b[1;33m     \u001b[0mnp\u001b[0m\u001b[1;33m.\u001b[0m\u001b[0mrandom\u001b[0m\u001b[1;33m.\u001b[0m\u001b[0mshuffle\u001b[0m\u001b[1;33m(\u001b[0m\u001b[0msecond\u001b[0m\u001b[1;33m)\u001b[0m\u001b[1;33m\u001b[0m\u001b[0m\n\u001b[0m\u001b[0;32m      6\u001b[0m     \u001b[0mresult\u001b[0m \u001b[1;33m=\u001b[0m \u001b[0mlist\u001b[0m\u001b[1;33m(\u001b[0m\u001b[0mfeedbacks\u001b[0m\u001b[1;33m[\u001b[0m\u001b[0mfirst\u001b[0m\u001b[1;33m]\u001b[0m\u001b[1;33m[\u001b[0m\u001b[1;33m:\u001b[0m\u001b[0mfeedbacksNumber\u001b[0m\u001b[1;33m]\u001b[0m\u001b[1;33m)\u001b[0m\u001b[1;33m\u001b[0m\u001b[0m\n\u001b[0;32m      7\u001b[0m     \u001b[0mresult\u001b[0m\u001b[1;33m.\u001b[0m\u001b[0mextend\u001b[0m\u001b[1;33m(\u001b[0m\u001b[0mlist\u001b[0m\u001b[1;33m(\u001b[0m\u001b[0mfeedbacks\u001b[0m\u001b[1;33m[\u001b[0m\u001b[0msecond\u001b[0m\u001b[1;33m]\u001b[0m\u001b[1;33m[\u001b[0m\u001b[1;33m:\u001b[0m\u001b[0mfeedbacksNumber\u001b[0m\u001b[1;33m]\u001b[0m\u001b[1;33m)\u001b[0m\u001b[1;33m)\u001b[0m\u001b[1;33m\u001b[0m\u001b[0m\n",
      "\u001b[1;32mmtrand.pyx\u001b[0m in \u001b[0;36mmtrand.RandomState.shuffle (numpy\\random\\mtrand\\mtrand.c:39350)\u001b[1;34m()\u001b[0m\n",
      "\u001b[1;32mmtrand.pyx\u001b[0m in \u001b[0;36mmtrand.RandomState.shuffle (numpy\\random\\mtrand\\mtrand.c:39302)\u001b[1;34m()\u001b[0m\n",
      "\u001b[1;31mTypeError\u001b[0m: 'str' object does not support item assignment"
     ]
    }
   ],
   "source": [
    "def getShuffledNormalizedFeedbacks(first, second):\n",
    "    result = []\n",
    "    feedbacksNumber = min(len(first), len(second))\n",
    "    result = list(feedbacks[first][:feedbacksNumber])\n",
    "    result.extend(list(feedbacks[second][:feedbacksNumber]))\n",
    "    np.random.shuffle(result)\n",
    "    return result\n",
    "\n",
    "print(len(feedbacks['5']))\n",
    "print(len(feedbacks['1234']))\n",
    "print(len(getShuffledNormalizedFeedbacks('5', '1234')))"
   ]
  },
  {
   "cell_type": "code",
   "execution_count": null,
   "metadata": {
    "collapsed": true
   },
   "outputs": [],
   "source": []
  }
 ],
 "metadata": {
  "kernelspec": {
   "display_name": "Python 3",
   "language": "python",
   "name": "python3"
  },
  "language_info": {
   "codemirror_mode": {
    "name": "ipython",
    "version": 3
   },
   "file_extension": ".py",
   "mimetype": "text/x-python",
   "name": "python",
   "nbconvert_exporter": "python",
   "pygments_lexer": "ipython3",
   "version": "3.6.1"
  }
 },
 "nbformat": 4,
 "nbformat_minor": 2
}
